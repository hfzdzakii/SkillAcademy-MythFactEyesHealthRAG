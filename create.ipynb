{
 "cells": [
  {
   "cell_type": "code",
   "execution_count": 1,
   "metadata": {},
   "outputs": [],
   "source": [
    "from langchain.document_loaders import TextLoader\n",
    "from langchain.text_splitter import CharacterTextSplitter\n",
    "from langchain.chains import RetrievalQA\n",
    "from langchain_google_genai import GoogleGenerativeAI, ChatGoogleGenerativeAI, GoogleGenerativeAIEmbeddings\n",
    "from langchain.vectorstores import FAISS\n",
    "from dotenv import load_dotenv\n",
    "import google.generativeai as genai\n",
    "import os\n",
    "\n",
    "load_dotenv()\n",
    "\n",
    "GOOGLE_API_KEY = os.getenv(\"GOOGLE_API_KEY\")\n",
    "os.environ[\"GOOGLE_API_KEY\"] = GOOGLE_API_KEY\n",
    "genai.configure(api_key=os.environ[\"GOOGLE_API_KEY\"])"
   ]
  },
  {
   "cell_type": "code",
   "execution_count": 2,
   "metadata": {},
   "outputs": [],
   "source": [
    "splitter = CharacterTextSplitter(separator = '\\n', chunk_size = 250, chunk_overlap = 25)\n",
    "\n",
    "fakta_loader = TextLoader(\"./data/fakta.txt\")\n",
    "mitos_loader = TextLoader(\"./data/mitos.txt\")\n",
    "\n",
    "fakta_docs = fakta_loader.load()\n",
    "fakta_docs[0].page_content = fakta_docs[0].page_content.lower()\n",
    "\n",
    "mitos_docs = mitos_loader.load()\n",
    "mitos_docs[0].page_content = mitos_docs[0].page_content.lower()\n",
    "\n",
    "fakta = splitter.split_documents(fakta_docs)\n",
    "mitos = splitter.split_documents(mitos_docs)"
   ]
  },
  {
   "cell_type": "code",
   "execution_count": 3,
   "metadata": {},
   "outputs": [],
   "source": [
    "embeddings = GoogleGenerativeAIEmbeddings(model=\"models/embedding-001\")\n",
    "db_fakta = FAISS.from_documents(fakta, embeddings)\n",
    "db_mitos = FAISS.from_documents(mitos, embeddings)\n",
    "\n",
    "llm = ChatGoogleGenerativeAI(model=\"gemini-1.5-flash\")\n",
    "qa_fakta = RetrievalQA.from_chain_type(llm=llm, retriever=db_fakta.as_retriever())\n",
    "qa_mitos = RetrievalQA.from_chain_type(llm=llm, retriever=db_mitos.as_retriever())\n"
   ]
  },
  {
   "cell_type": "code",
   "execution_count": 8,
   "metadata": {},
   "outputs": [],
   "source": [
    "def classify_input_with_similarity(input_text, fact_store, myth_store, qa_fakta, qa_mitos, threshold=0.6):\n",
    "    input_text = input_text.lower()\n",
    "    \n",
    "    fakta_score = fact_store.similarity_search_with_relevance_scores(input_text, k=1)[0][1]\n",
    "    mitos_score = myth_store.similarity_search_with_relevance_scores(input_text, k=1)[0][1]\n",
    "\n",
    "\n",
    "    if max(fakta_score, mitos_score) < threshold:\n",
    "        return \"Out of Topic\"\n",
    "\n",
    "    if fakta_score > mitos_score:\n",
    "        ans_fakta = qa_fakta.invoke(input_text)\n",
    "        return f\"Fakta\\n{ans_fakta['result']}\"\n",
    "    else:\n",
    "        ans_mitos = qa_mitos.invoke(input_text)\n",
    "        return f\"Mitos\\n{ans_mitos['result']}\""
   ]
  },
  {
   "cell_type": "code",
   "execution_count": 9,
   "metadata": {},
   "outputs": [
    {
     "name": "stdout",
     "output_type": "stream",
     "text": [
      "Klasifikasi: Mitos\n",
      "Benar, menggunakan kacamata minus bisa menyebabkan mata lebih lelah. \n",
      "\n"
     ]
    }
   ],
   "source": [
    "input_text = \"Menggunakan kacamata minus bisa menyebabkan mata lebih lelah\"\n",
    "classification = classify_input_with_similarity(input_text, db_fakta, db_mitos, qa_fakta, qa_mitos,)\n",
    "print(f\"Klasifikasi: {classification}\")"
   ]
  },
  {
   "cell_type": "code",
   "execution_count": null,
   "metadata": {},
   "outputs": [],
   "source": []
  },
  {
   "cell_type": "code",
   "execution_count": 2,
   "metadata": {},
   "outputs": [
    {
     "data": {
      "text/plain": [
       "(60, 64)"
      ]
     },
     "execution_count": 2,
     "metadata": {},
     "output_type": "execute_result"
    }
   ],
   "source": [
    "len(mitos), len(fakta)"
   ]
  }
 ],
 "metadata": {
  "kernelspec": {
   "display_name": "SACamp",
   "language": "python",
   "name": "python3"
  },
  "language_info": {
   "codemirror_mode": {
    "name": "ipython",
    "version": 3
   },
   "file_extension": ".py",
   "mimetype": "text/x-python",
   "name": "python",
   "nbconvert_exporter": "python",
   "pygments_lexer": "ipython3",
   "version": "3.12.9"
  }
 },
 "nbformat": 4,
 "nbformat_minor": 2
}
